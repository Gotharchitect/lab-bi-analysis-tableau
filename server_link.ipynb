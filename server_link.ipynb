lab-bi-analysis-tableau

https://eu-west-1a.online.tableau.com/#/site/applieddatascience/workbooks/326272?:origin=card_share_link
